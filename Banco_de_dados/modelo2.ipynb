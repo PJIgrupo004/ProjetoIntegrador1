{
 "cells": [
  {
   "cell_type": "code",
   "execution_count": 16,
   "id": "b74c4836",
   "metadata": {},
   "outputs": [],
   "source": [
    "\n"
   ]
  },
  {
   "cell_type": "code",
   "execution_count": 1,
   "id": "30a5fcac",
   "metadata": {},
   "outputs": [
    {
     "data": {
      "text/plain": [
       "'ER_diagram.png'"
      ]
     },
     "execution_count": 1,
     "metadata": {},
     "output_type": "execute_result"
    }
   ],
   "source": [
    "from graphviz import Digraph\n",
    "\n",
    "# Criando o grafo\n",
    "grafo = Digraph(name='ER Diagram', format='png')\n",
    "\n",
    "# Adicionando as entidades sem rótulos\n",
    "grafo.node('Admin')\n",
    "grafo.node('Cliente')\n",
    "grafo.node('Procedimento')\n",
    "grafo.node('Produto')\n",
    "grafo.node('Agendamento')\n",
    "grafo.node('Historico_Agendamento')\n",
    "grafo.node('Post_Instagram')\n",
    "\n",
    "# Adicionando os relacionamentos\n",
    "grafo.edge('Admin', 'Agendamento', label='Gerencia')\n",
    "grafo.edge('Admin', 'Procedimento', label='Registra')\n",
    "grafo.edge('Admin', 'Produto', label='Registra')\n",
    "grafo.edge('Admin', 'Post_Instagram', label='Registra')\n",
    "grafo.edge('Cliente', 'Agendamento', label='Realiza')\n",
    "grafo.edge('Agendamento', 'Procedimento', label='Agenda')  # Corrigindo a direção da seta\n",
    "grafo.edge('Procedimento', 'Produto', label='Utiliza')  # Adicionando a seta de Procedimento para Produto\n",
    "grafo.edge('Cliente', 'Historico_Agendamento', label='Possui')\n",
    "grafo.edge('Agendamento', 'Historico_Agendamento', label='Registra')\n",
    "\n",
    "# Salvando o grafo como imagem\n",
    "grafo.render(filename='ER_diagram', format='png', directory='.', cleanup=True)\n"
   ]
  },
  {
   "cell_type": "code",
   "execution_count": null,
   "id": "a43995f3",
   "metadata": {},
   "outputs": [],
   "source": []
  },
  {
   "cell_type": "code",
   "execution_count": null,
   "id": "ae68b8ee",
   "metadata": {},
   "outputs": [],
   "source": []
  }
 ],
 "metadata": {
  "kernelspec": {
   "display_name": "Python 3 (ipykernel)",
   "language": "python",
   "name": "python3"
  },
  "language_info": {
   "codemirror_mode": {
    "name": "ipython",
    "version": 3
   },
   "file_extension": ".py",
   "mimetype": "text/x-python",
   "name": "python",
   "nbconvert_exporter": "python",
   "pygments_lexer": "ipython3",
   "version": "3.11.5"
  }
 },
 "nbformat": 4,
 "nbformat_minor": 5
}
